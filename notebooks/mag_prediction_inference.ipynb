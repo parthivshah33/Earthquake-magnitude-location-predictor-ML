{
 "cells": [
  {
   "cell_type": "code",
   "execution_count": 8,
   "metadata": {},
   "outputs": [],
   "source": [
    "import joblib\n",
    "import numpy as np\n",
    "import pandas as pd"
   ]
  },
  {
   "cell_type": "code",
   "execution_count": 9,
   "metadata": {},
   "outputs": [
    {
     "data": {
      "text/html": [
       "<div>\n",
       "<style scoped>\n",
       "    .dataframe tbody tr th:only-of-type {\n",
       "        vertical-align: middle;\n",
       "    }\n",
       "\n",
       "    .dataframe tbody tr th {\n",
       "        vertical-align: top;\n",
       "    }\n",
       "\n",
       "    .dataframe thead th {\n",
       "        text-align: right;\n",
       "    }\n",
       "</style>\n",
       "<table border=\"1\" class=\"dataframe\">\n",
       "  <thead>\n",
       "    <tr style=\"text-align: right;\">\n",
       "      <th></th>\n",
       "      <th>Unnamed: 0</th>\n",
       "      <th>Latitude(deg)</th>\n",
       "      <th>Longitude(deg)</th>\n",
       "      <th>Depth(km)</th>\n",
       "      <th>Magnitude(ergs)</th>\n",
       "      <th>No_of_Stations</th>\n",
       "      <th>Gap</th>\n",
       "      <th>Close</th>\n",
       "      <th>RMS</th>\n",
       "      <th>SRC</th>\n",
       "      <th>EventID</th>\n",
       "      <th>MagType_ML</th>\n",
       "      <th>MagType_Md</th>\n",
       "      <th>MagType_Mw</th>\n",
       "      <th>MagType_Mx</th>\n",
       "    </tr>\n",
       "  </thead>\n",
       "  <tbody>\n",
       "    <tr>\n",
       "      <th>16225</th>\n",
       "      <td>2001-05-14 17:13:30.140</td>\n",
       "      <td>34.2335</td>\n",
       "      <td>-117.4343</td>\n",
       "      <td>7.37</td>\n",
       "      <td>3.76</td>\n",
       "      <td>6</td>\n",
       "      <td>123</td>\n",
       "      <td>24</td>\n",
       "      <td>0.01</td>\n",
       "      <td>NCSN</td>\n",
       "      <td>21164171</td>\n",
       "      <td>0</td>\n",
       "      <td>1</td>\n",
       "      <td>0</td>\n",
       "      <td>0</td>\n",
       "    </tr>\n",
       "    <tr>\n",
       "      <th>7113</th>\n",
       "      <td>1983-05-06 04:31:25.210</td>\n",
       "      <td>36.3340</td>\n",
       "      <td>-120.3353</td>\n",
       "      <td>5.15</td>\n",
       "      <td>3.23</td>\n",
       "      <td>39</td>\n",
       "      <td>108</td>\n",
       "      <td>2</td>\n",
       "      <td>0.16</td>\n",
       "      <td>NCSN</td>\n",
       "      <td>-1093051</td>\n",
       "      <td>0</td>\n",
       "      <td>1</td>\n",
       "      <td>0</td>\n",
       "      <td>0</td>\n",
       "    </tr>\n",
       "  </tbody>\n",
       "</table>\n",
       "</div>"
      ],
      "text/plain": [
       "                   Unnamed: 0  Latitude(deg)  Longitude(deg)  Depth(km)  \\\n",
       "16225 2001-05-14 17:13:30.140        34.2335       -117.4343       7.37   \n",
       "7113  1983-05-06 04:31:25.210        36.3340       -120.3353       5.15   \n",
       "\n",
       "       Magnitude(ergs)  No_of_Stations  Gap  Close   RMS   SRC   EventID  \\\n",
       "16225             3.76               6  123     24  0.01  NCSN  21164171   \n",
       "7113              3.23              39  108      2  0.16  NCSN  -1093051   \n",
       "\n",
       "       MagType_ML  MagType_Md  MagType_Mw  MagType_Mx  \n",
       "16225           0           1           0           0  \n",
       "7113            0           1           0           0  "
      ]
     },
     "execution_count": 9,
     "metadata": {},
     "output_type": "execute_result"
    }
   ],
   "source": [
    "data = pd.read_excel('Dataset/Processed_data/Earthquake_data_processed.xlsx')\n",
    "data.sample(2)"
   ]
  },
  {
   "cell_type": "code",
   "execution_count": 10,
   "metadata": {},
   "outputs": [
    {
     "data": {
      "text/html": [
       "<div>\n",
       "<style scoped>\n",
       "    .dataframe tbody tr th:only-of-type {\n",
       "        vertical-align: middle;\n",
       "    }\n",
       "\n",
       "    .dataframe tbody tr th {\n",
       "        vertical-align: top;\n",
       "    }\n",
       "\n",
       "    .dataframe thead th {\n",
       "        text-align: right;\n",
       "    }\n",
       "</style>\n",
       "<table border=\"1\" class=\"dataframe\">\n",
       "  <thead>\n",
       "    <tr style=\"text-align: right;\">\n",
       "      <th></th>\n",
       "      <th>Unnamed: 0</th>\n",
       "      <th>Latitude(deg)</th>\n",
       "      <th>Longitude(deg)</th>\n",
       "      <th>Depth(km)</th>\n",
       "      <th>Magnitude(ergs)</th>\n",
       "      <th>No_of_Stations</th>\n",
       "      <th>Gap</th>\n",
       "      <th>Close</th>\n",
       "      <th>RMS</th>\n",
       "      <th>SRC</th>\n",
       "      <th>EventID</th>\n",
       "      <th>MagType_ML</th>\n",
       "      <th>MagType_Md</th>\n",
       "      <th>MagType_Mw</th>\n",
       "      <th>MagType_Mx</th>\n",
       "    </tr>\n",
       "  </thead>\n",
       "  <tbody>\n",
       "    <tr>\n",
       "      <th>7497</th>\n",
       "      <td>1983-11-01 19:47:18.090</td>\n",
       "      <td>39.5793</td>\n",
       "      <td>-123.3657</td>\n",
       "      <td>0.18</td>\n",
       "      <td>3.09</td>\n",
       "      <td>25</td>\n",
       "      <td>64</td>\n",
       "      <td>8</td>\n",
       "      <td>0.1</td>\n",
       "      <td>NCSN</td>\n",
       "      <td>-1106072</td>\n",
       "      <td>0</td>\n",
       "      <td>1</td>\n",
       "      <td>0</td>\n",
       "      <td>0</td>\n",
       "    </tr>\n",
       "  </tbody>\n",
       "</table>\n",
       "</div>"
      ],
      "text/plain": [
       "                  Unnamed: 0  Latitude(deg)  Longitude(deg)  Depth(km)  \\\n",
       "7497 1983-11-01 19:47:18.090        39.5793       -123.3657       0.18   \n",
       "\n",
       "      Magnitude(ergs)  No_of_Stations  Gap  Close  RMS   SRC  EventID  \\\n",
       "7497             3.09              25   64      8  0.1  NCSN -1106072   \n",
       "\n",
       "      MagType_ML  MagType_Md  MagType_Mw  MagType_Mx  \n",
       "7497           0           1           0           0  "
      ]
     },
     "execution_count": 10,
     "metadata": {},
     "output_type": "execute_result"
    }
   ],
   "source": [
    "# true_magnitude = data[data['Magnitude(ergs)']]['Magnitude(ergs)'].sample(1)\n",
    "testData = data.sample(1)\n",
    "testData = testData.sample(1)\n",
    "testData"
   ]
  },
  {
   "cell_type": "code",
   "execution_count": 11,
   "metadata": {},
   "outputs": [
    {
     "name": "stdout",
     "output_type": "stream",
     "text": [
      "<class 'list'>\n",
      "[[39.5793, -123.3657, 0.18, 25.0, 64.0, 8.0, 0.1]]\n"
     ]
    },
    {
     "data": {
      "text/plain": [
       "array([[ 3.957930e+01, -1.233657e+02,  1.800000e-01,  2.500000e+01,\n",
       "         6.400000e+01,  8.000000e+00,  1.000000e-01]])"
      ]
     },
     "execution_count": 11,
     "metadata": {},
     "output_type": "execute_result"
    }
   ],
   "source": [
    "x = testData.drop(columns=['Magnitude(ergs)','SRC','EventID','Unnamed: 0','MagType_ML','MagType_Md','MagType_Mw','MagType_Mx'])\n",
    "\n",
    "x = x.values.tolist()\n",
    "print(type(x))\n",
    "print(x)\n",
    "np.array(x)"
   ]
  },
  {
   "cell_type": "code",
   "execution_count": 12,
   "metadata": {},
   "outputs": [],
   "source": [
    "import joblib\n",
    "\n",
    "mag_predictor = joblib.load(r'D:\\Earthquake-prediction-using-Machine-learning-models-main\\models\\MagPred_random_forest_regressor_200_estimators_minSampLeaf_5_minSampleSplit6_oob_True.pkl')"
   ]
  },
  {
   "cell_type": "code",
   "execution_count": 13,
   "metadata": {},
   "outputs": [
    {
     "name": "stderr",
     "output_type": "stream",
     "text": [
      "c:\\Users\\PARTHIV\\anaconda3\\Lib\\site-packages\\sklearn\\base.py:439: UserWarning: X does not have valid feature names, but RandomForestRegressor was fitted with feature names\n",
      "  warnings.warn(\n"
     ]
    },
    {
     "data": {
      "text/plain": [
       "array([3.25658696])"
      ]
     },
     "execution_count": 13,
     "metadata": {},
     "output_type": "execute_result"
    }
   ],
   "source": [
    "predArray = mag_predictor.predict(np.array(x))\n",
    "predArray"
   ]
  },
  {
   "cell_type": "code",
   "execution_count": 14,
   "metadata": {},
   "outputs": [
    {
     "data": {
      "text/plain": [
       "3.256586963845624"
      ]
     },
     "execution_count": 14,
     "metadata": {},
     "output_type": "execute_result"
    }
   ],
   "source": [
    "predArray.tolist()[0]"
   ]
  }
 ],
 "metadata": {
  "kernelspec": {
   "display_name": "base",
   "language": "python",
   "name": "python3"
  },
  "language_info": {
   "codemirror_mode": {
    "name": "ipython",
    "version": 3
   },
   "file_extension": ".py",
   "mimetype": "text/x-python",
   "name": "python",
   "nbconvert_exporter": "python",
   "pygments_lexer": "ipython3",
   "version": "3.11.7"
  }
 },
 "nbformat": 4,
 "nbformat_minor": 2
}
