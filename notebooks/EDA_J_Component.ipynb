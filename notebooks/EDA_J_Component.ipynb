{
  "cells": [
    {
      "cell_type": "code",
      "execution_count": 2,
      "metadata": {},
      "outputs": [],
      "source": [
        "import pandas as pd\n",
        "import seaborn as sns\n",
        "import matplotlib.pyplot as plt"
      ]
    },
    {
      "cell_type": "code",
      "execution_count": 3,
      "metadata": {
        "colab": {
          "base_uri": "https://localhost:8080/",
          "height": 634
        },
        "id": "I1OqoLg1fIoy",
        "outputId": "53c03854-2716-4dee-d05d-b1ecc3e0a6f4"
      },
      "outputs": [
        {
          "data": {
            "text/html": [
              "<div>\n",
              "<style scoped>\n",
              "    .dataframe tbody tr th:only-of-type {\n",
              "        vertical-align: middle;\n",
              "    }\n",
              "\n",
              "    .dataframe tbody tr th {\n",
              "        vertical-align: top;\n",
              "    }\n",
              "\n",
              "    .dataframe thead th {\n",
              "        text-align: right;\n",
              "    }\n",
              "</style>\n",
              "<table border=\"1\" class=\"dataframe\">\n",
              "  <thead>\n",
              "    <tr style=\"text-align: right;\">\n",
              "      <th></th>\n",
              "      <th>Date(YYYY/MM/DD)</th>\n",
              "      <th>Time</th>\n",
              "      <th>Latitude</th>\n",
              "      <th>Longitude</th>\n",
              "      <th>Depth</th>\n",
              "      <th>Mag</th>\n",
              "      <th>Magt</th>\n",
              "      <th>Nst</th>\n",
              "      <th>Gap</th>\n",
              "      <th>Clo</th>\n",
              "      <th>RMS</th>\n",
              "      <th>SRC</th>\n",
              "      <th>EventID</th>\n",
              "    </tr>\n",
              "  </thead>\n",
              "  <tbody>\n",
              "    <tr>\n",
              "      <th>9490</th>\n",
              "      <td>1987/08/02</td>\n",
              "      <td>04:39:48.96</td>\n",
              "      <td>40.3067</td>\n",
              "      <td>-124.4357</td>\n",
              "      <td>21.55</td>\n",
              "      <td>3.40</td>\n",
              "      <td>ML</td>\n",
              "      <td>18</td>\n",
              "      <td>233</td>\n",
              "      <td>21</td>\n",
              "      <td>0.06</td>\n",
              "      <td>NCSN</td>\n",
              "      <td>103901</td>\n",
              "    </tr>\n",
              "    <tr>\n",
              "      <th>11649</th>\n",
              "      <td>1992/04/26</td>\n",
              "      <td>08:19:13.53</td>\n",
              "      <td>40.3237</td>\n",
              "      <td>-124.4780</td>\n",
              "      <td>19.68</td>\n",
              "      <td>3.08</td>\n",
              "      <td>Md</td>\n",
              "      <td>13</td>\n",
              "      <td>250</td>\n",
              "      <td>17</td>\n",
              "      <td>0.03</td>\n",
              "      <td>NCSN</td>\n",
              "      <td>268040</td>\n",
              "    </tr>\n",
              "    <tr>\n",
              "      <th>13601</th>\n",
              "      <td>1994/11/11</td>\n",
              "      <td>06:37:31.58</td>\n",
              "      <td>40.3848</td>\n",
              "      <td>-124.8793</td>\n",
              "      <td>22.61</td>\n",
              "      <td>3.37</td>\n",
              "      <td>Md</td>\n",
              "      <td>28</td>\n",
              "      <td>276</td>\n",
              "      <td>47</td>\n",
              "      <td>0.14</td>\n",
              "      <td>NCSN</td>\n",
              "      <td>30062419</td>\n",
              "    </tr>\n",
              "    <tr>\n",
              "      <th>3856</th>\n",
              "      <td>1976/10/10</td>\n",
              "      <td>10:26:32.07</td>\n",
              "      <td>36.6440</td>\n",
              "      <td>-121.2567</td>\n",
              "      <td>5.92</td>\n",
              "      <td>3.21</td>\n",
              "      <td>Md</td>\n",
              "      <td>31</td>\n",
              "      <td>49</td>\n",
              "      <td>6</td>\n",
              "      <td>0.04</td>\n",
              "      <td>NCSN</td>\n",
              "      <td>-1031857</td>\n",
              "    </tr>\n",
              "    <tr>\n",
              "      <th>11107</th>\n",
              "      <td>1991/03/25</td>\n",
              "      <td>15:46:14.26</td>\n",
              "      <td>37.6460</td>\n",
              "      <td>-118.9365</td>\n",
              "      <td>7.92</td>\n",
              "      <td>3.50</td>\n",
              "      <td>ML</td>\n",
              "      <td>30</td>\n",
              "      <td>56</td>\n",
              "      <td>2</td>\n",
              "      <td>0.08</td>\n",
              "      <td>NCSN</td>\n",
              "      <td>208716</td>\n",
              "    </tr>\n",
              "    <tr>\n",
              "      <th>10384</th>\n",
              "      <td>1989/10/18</td>\n",
              "      <td>00:40:57.75</td>\n",
              "      <td>37.1908</td>\n",
              "      <td>-121.9727</td>\n",
              "      <td>4.17</td>\n",
              "      <td>3.10</td>\n",
              "      <td>ML</td>\n",
              "      <td>40</td>\n",
              "      <td>66</td>\n",
              "      <td>2</td>\n",
              "      <td>0.16</td>\n",
              "      <td>NCSN</td>\n",
              "      <td>10090724</td>\n",
              "    </tr>\n",
              "    <tr>\n",
              "      <th>17785</th>\n",
              "      <td>2006/11/26</td>\n",
              "      <td>09:40:22.01</td>\n",
              "      <td>38.7587</td>\n",
              "      <td>-122.7152</td>\n",
              "      <td>1.87</td>\n",
              "      <td>3.00</td>\n",
              "      <td>Md</td>\n",
              "      <td>50</td>\n",
              "      <td>28</td>\n",
              "      <td>2</td>\n",
              "      <td>0.08</td>\n",
              "      <td>NCSN</td>\n",
              "      <td>21549419</td>\n",
              "    </tr>\n",
              "    <tr>\n",
              "      <th>7422</th>\n",
              "      <td>1983/09/09</td>\n",
              "      <td>23:22:25.57</td>\n",
              "      <td>37.5027</td>\n",
              "      <td>-118.7983</td>\n",
              "      <td>3.73</td>\n",
              "      <td>3.40</td>\n",
              "      <td>ML</td>\n",
              "      <td>19</td>\n",
              "      <td>118</td>\n",
              "      <td>10</td>\n",
              "      <td>0.04</td>\n",
              "      <td>NCSN</td>\n",
              "      <td>-1102344</td>\n",
              "    </tr>\n",
              "    <tr>\n",
              "      <th>7001</th>\n",
              "      <td>1983/05/03</td>\n",
              "      <td>09:39:45.53</td>\n",
              "      <td>36.2750</td>\n",
              "      <td>-120.2665</td>\n",
              "      <td>10.43</td>\n",
              "      <td>4.10</td>\n",
              "      <td>Md</td>\n",
              "      <td>70</td>\n",
              "      <td>210</td>\n",
              "      <td>7</td>\n",
              "      <td>0.22</td>\n",
              "      <td>NCSN</td>\n",
              "      <td>-1091576</td>\n",
              "    </tr>\n",
              "    <tr>\n",
              "      <th>16473</th>\n",
              "      <td>2002/02/24</td>\n",
              "      <td>06:21:48.90</td>\n",
              "      <td>35.9640</td>\n",
              "      <td>-117.6765</td>\n",
              "      <td>8.81</td>\n",
              "      <td>3.07</td>\n",
              "      <td>Md</td>\n",
              "      <td>7</td>\n",
              "      <td>219</td>\n",
              "      <td>3</td>\n",
              "      <td>0.03</td>\n",
              "      <td>NCSN</td>\n",
              "      <td>21213927</td>\n",
              "    </tr>\n",
              "  </tbody>\n",
              "</table>\n",
              "</div>"
            ],
            "text/plain": [
              "      Date(YYYY/MM/DD)         Time  Latitude  Longitude  Depth   Mag Magt  \\\n",
              "9490        1987/08/02  04:39:48.96   40.3067  -124.4357  21.55  3.40   ML   \n",
              "11649       1992/04/26  08:19:13.53   40.3237  -124.4780  19.68  3.08   Md   \n",
              "13601       1994/11/11  06:37:31.58   40.3848  -124.8793  22.61  3.37   Md   \n",
              "3856        1976/10/10  10:26:32.07   36.6440  -121.2567   5.92  3.21   Md   \n",
              "11107       1991/03/25  15:46:14.26   37.6460  -118.9365   7.92  3.50   ML   \n",
              "10384       1989/10/18  00:40:57.75   37.1908  -121.9727   4.17  3.10   ML   \n",
              "17785       2006/11/26  09:40:22.01   38.7587  -122.7152   1.87  3.00   Md   \n",
              "7422        1983/09/09  23:22:25.57   37.5027  -118.7983   3.73  3.40   ML   \n",
              "7001        1983/05/03  09:39:45.53   36.2750  -120.2665  10.43  4.10   Md   \n",
              "16473       2002/02/24  06:21:48.90   35.9640  -117.6765   8.81  3.07   Md   \n",
              "\n",
              "       Nst  Gap  Clo   RMS   SRC   EventID  \n",
              "9490    18  233   21  0.06  NCSN    103901  \n",
              "11649   13  250   17  0.03  NCSN    268040  \n",
              "13601   28  276   47  0.14  NCSN  30062419  \n",
              "3856    31   49    6  0.04  NCSN  -1031857  \n",
              "11107   30   56    2  0.08  NCSN    208716  \n",
              "10384   40   66    2  0.16  NCSN  10090724  \n",
              "17785   50   28    2  0.08  NCSN  21549419  \n",
              "7422    19  118   10  0.04  NCSN  -1102344  \n",
              "7001    70  210    7  0.22  NCSN  -1091576  \n",
              "16473    7  219    3  0.03  NCSN  21213927  "
            ]
          },
          "execution_count": 3,
          "metadata": {},
          "output_type": "execute_result"
        }
      ],
      "source": [
        "df = pd.read_csv(r\"D:\\Earthquake-prediction-using-Machine-learning-models-main\\Dataset\\Earthquake_Data.csv\", delimiter=r'\\s+')\n",
        "\n",
        "# read_csv argument to load date_time column ---> ''', parse_dates=['Date(YYYY/MM/DD)']'''\n",
        "\n",
        "df.sample(10)"
      ]
    },
    {
      "cell_type": "markdown",
      "metadata": {
        "id": "neBlKhMPOCsx"
      },
      "source": [
        "##Preprocessing\n",
        "No preprocessing required because the data is already clean and structured.\n",
        "We just have to change the column names to meaningful names."
      ]
    },
    {
      "cell_type": "code",
      "execution_count": 4,
      "metadata": {
        "colab": {
          "base_uri": "https://localhost:8080/",
          "height": 634
        },
        "id": "lgmzSvsh2utY",
        "outputId": "00c20ee9-b59a-4461-a332-1629f44cc5c9"
      },
      "outputs": [
        {
          "data": {
            "text/html": [
              "<div>\n",
              "<style scoped>\n",
              "    .dataframe tbody tr th:only-of-type {\n",
              "        vertical-align: middle;\n",
              "    }\n",
              "\n",
              "    .dataframe tbody tr th {\n",
              "        vertical-align: top;\n",
              "    }\n",
              "\n",
              "    .dataframe thead th {\n",
              "        text-align: right;\n",
              "    }\n",
              "</style>\n",
              "<table border=\"1\" class=\"dataframe\">\n",
              "  <thead>\n",
              "    <tr style=\"text-align: right;\">\n",
              "      <th></th>\n",
              "      <th>Latitude(deg)</th>\n",
              "      <th>Longitude(deg)</th>\n",
              "      <th>Depth(km)</th>\n",
              "      <th>Magnitude(ergs)</th>\n",
              "      <th>Magnitude_type</th>\n",
              "      <th>No_of_Stations</th>\n",
              "      <th>Gap</th>\n",
              "      <th>Close</th>\n",
              "      <th>RMS</th>\n",
              "      <th>SRC</th>\n",
              "      <th>EventID</th>\n",
              "    </tr>\n",
              "  </thead>\n",
              "  <tbody>\n",
              "    <tr>\n",
              "      <th>1966-07-01 09:41:21.820</th>\n",
              "      <td>35.9463</td>\n",
              "      <td>-120.4700</td>\n",
              "      <td>12.26</td>\n",
              "      <td>3.20</td>\n",
              "      <td>Mx</td>\n",
              "      <td>7</td>\n",
              "      <td>171</td>\n",
              "      <td>20</td>\n",
              "      <td>0.02</td>\n",
              "      <td>NCSN</td>\n",
              "      <td>-4540462</td>\n",
              "    </tr>\n",
              "    <tr>\n",
              "      <th>1966-07-02 12:08:34.250</th>\n",
              "      <td>35.7867</td>\n",
              "      <td>-120.3265</td>\n",
              "      <td>8.99</td>\n",
              "      <td>3.70</td>\n",
              "      <td>Mx</td>\n",
              "      <td>8</td>\n",
              "      <td>86</td>\n",
              "      <td>3</td>\n",
              "      <td>0.04</td>\n",
              "      <td>NCSN</td>\n",
              "      <td>-4540520</td>\n",
              "    </tr>\n",
              "    <tr>\n",
              "      <th>1966-07-02 12:16:14.950</th>\n",
              "      <td>35.7928</td>\n",
              "      <td>-120.3353</td>\n",
              "      <td>9.88</td>\n",
              "      <td>3.40</td>\n",
              "      <td>Mx</td>\n",
              "      <td>8</td>\n",
              "      <td>89</td>\n",
              "      <td>2</td>\n",
              "      <td>0.03</td>\n",
              "      <td>NCSN</td>\n",
              "      <td>-4540521</td>\n",
              "    </tr>\n",
              "    <tr>\n",
              "      <th>1966-07-02 12:25:06.120</th>\n",
              "      <td>35.7970</td>\n",
              "      <td>-120.3282</td>\n",
              "      <td>9.09</td>\n",
              "      <td>3.10</td>\n",
              "      <td>Mx</td>\n",
              "      <td>8</td>\n",
              "      <td>101</td>\n",
              "      <td>3</td>\n",
              "      <td>0.08</td>\n",
              "      <td>NCSN</td>\n",
              "      <td>-4540522</td>\n",
              "    </tr>\n",
              "    <tr>\n",
              "      <th>1966-07-05 18:54:54.360</th>\n",
              "      <td>35.9223</td>\n",
              "      <td>-120.4585</td>\n",
              "      <td>7.86</td>\n",
              "      <td>3.10</td>\n",
              "      <td>Mx</td>\n",
              "      <td>9</td>\n",
              "      <td>161</td>\n",
              "      <td>14</td>\n",
              "      <td>0.04</td>\n",
              "      <td>NCSN</td>\n",
              "      <td>-4540594</td>\n",
              "    </tr>\n",
              "    <tr>\n",
              "      <th>...</th>\n",
              "      <td>...</td>\n",
              "      <td>...</td>\n",
              "      <td>...</td>\n",
              "      <td>...</td>\n",
              "      <td>...</td>\n",
              "      <td>...</td>\n",
              "      <td>...</td>\n",
              "      <td>...</td>\n",
              "      <td>...</td>\n",
              "      <td>...</td>\n",
              "      <td>...</td>\n",
              "    </tr>\n",
              "    <tr>\n",
              "      <th>2007-12-19 12:14:09.620</th>\n",
              "      <td>34.1438</td>\n",
              "      <td>-116.9822</td>\n",
              "      <td>7.03</td>\n",
              "      <td>4.06</td>\n",
              "      <td>ML</td>\n",
              "      <td>10</td>\n",
              "      <td>73</td>\n",
              "      <td>14</td>\n",
              "      <td>0.08</td>\n",
              "      <td>NCSN</td>\n",
              "      <td>40207706</td>\n",
              "    </tr>\n",
              "    <tr>\n",
              "      <th>2007-12-21 12:14:56.450</th>\n",
              "      <td>37.3078</td>\n",
              "      <td>-121.6735</td>\n",
              "      <td>8.47</td>\n",
              "      <td>3.08</td>\n",
              "      <td>ML</td>\n",
              "      <td>114</td>\n",
              "      <td>45</td>\n",
              "      <td>5</td>\n",
              "      <td>0.12</td>\n",
              "      <td>NCSN</td>\n",
              "      <td>51192926</td>\n",
              "    </tr>\n",
              "    <tr>\n",
              "      <th>2007-12-23 21:43:43.540</th>\n",
              "      <td>37.2127</td>\n",
              "      <td>-117.8230</td>\n",
              "      <td>10.00</td>\n",
              "      <td>3.54</td>\n",
              "      <td>ML</td>\n",
              "      <td>45</td>\n",
              "      <td>176</td>\n",
              "      <td>40</td>\n",
              "      <td>0.07</td>\n",
              "      <td>NCSN</td>\n",
              "      <td>51193070</td>\n",
              "    </tr>\n",
              "    <tr>\n",
              "      <th>2007-12-28 01:59:42.400</th>\n",
              "      <td>36.5292</td>\n",
              "      <td>-121.1133</td>\n",
              "      <td>5.99</td>\n",
              "      <td>3.04</td>\n",
              "      <td>ML</td>\n",
              "      <td>70</td>\n",
              "      <td>45</td>\n",
              "      <td>4</td>\n",
              "      <td>0.06</td>\n",
              "      <td>NCSN</td>\n",
              "      <td>51193343</td>\n",
              "    </tr>\n",
              "    <tr>\n",
              "      <th>2007-12-28 23:20:28.120</th>\n",
              "      <td>38.7710</td>\n",
              "      <td>-122.7370</td>\n",
              "      <td>2.34</td>\n",
              "      <td>3.40</td>\n",
              "      <td>Mw</td>\n",
              "      <td>49</td>\n",
              "      <td>37</td>\n",
              "      <td>1</td>\n",
              "      <td>0.07</td>\n",
              "      <td>NCSN</td>\n",
              "      <td>51193419</td>\n",
              "    </tr>\n",
              "  </tbody>\n",
              "</table>\n",
              "<p>18030 rows × 11 columns</p>\n",
              "</div>"
            ],
            "text/plain": [
              "                         Latitude(deg)  Longitude(deg)  Depth(km)  \\\n",
              "1966-07-01 09:41:21.820        35.9463       -120.4700      12.26   \n",
              "1966-07-02 12:08:34.250        35.7867       -120.3265       8.99   \n",
              "1966-07-02 12:16:14.950        35.7928       -120.3353       9.88   \n",
              "1966-07-02 12:25:06.120        35.7970       -120.3282       9.09   \n",
              "1966-07-05 18:54:54.360        35.9223       -120.4585       7.86   \n",
              "...                                ...             ...        ...   \n",
              "2007-12-19 12:14:09.620        34.1438       -116.9822       7.03   \n",
              "2007-12-21 12:14:56.450        37.3078       -121.6735       8.47   \n",
              "2007-12-23 21:43:43.540        37.2127       -117.8230      10.00   \n",
              "2007-12-28 01:59:42.400        36.5292       -121.1133       5.99   \n",
              "2007-12-28 23:20:28.120        38.7710       -122.7370       2.34   \n",
              "\n",
              "                         Magnitude(ergs) Magnitude_type  No_of_Stations  Gap  \\\n",
              "1966-07-01 09:41:21.820             3.20             Mx               7  171   \n",
              "1966-07-02 12:08:34.250             3.70             Mx               8   86   \n",
              "1966-07-02 12:16:14.950             3.40             Mx               8   89   \n",
              "1966-07-02 12:25:06.120             3.10             Mx               8  101   \n",
              "1966-07-05 18:54:54.360             3.10             Mx               9  161   \n",
              "...                                  ...            ...             ...  ...   \n",
              "2007-12-19 12:14:09.620             4.06             ML              10   73   \n",
              "2007-12-21 12:14:56.450             3.08             ML             114   45   \n",
              "2007-12-23 21:43:43.540             3.54             ML              45  176   \n",
              "2007-12-28 01:59:42.400             3.04             ML              70   45   \n",
              "2007-12-28 23:20:28.120             3.40             Mw              49   37   \n",
              "\n",
              "                         Close   RMS   SRC   EventID  \n",
              "1966-07-01 09:41:21.820     20  0.02  NCSN  -4540462  \n",
              "1966-07-02 12:08:34.250      3  0.04  NCSN  -4540520  \n",
              "1966-07-02 12:16:14.950      2  0.03  NCSN  -4540521  \n",
              "1966-07-02 12:25:06.120      3  0.08  NCSN  -4540522  \n",
              "1966-07-05 18:54:54.360     14  0.04  NCSN  -4540594  \n",
              "...                        ...   ...   ...       ...  \n",
              "2007-12-19 12:14:09.620     14  0.08  NCSN  40207706  \n",
              "2007-12-21 12:14:56.450      5  0.12  NCSN  51192926  \n",
              "2007-12-23 21:43:43.540     40  0.07  NCSN  51193070  \n",
              "2007-12-28 01:59:42.400      4  0.06  NCSN  51193343  \n",
              "2007-12-28 23:20:28.120      1  0.07  NCSN  51193419  \n",
              "\n",
              "[18030 rows x 11 columns]"
            ]
          },
          "metadata": {},
          "output_type": "display_data"
        }
      ],
      "source": [
        "new_column_names = [\"Date(YYYY/MM/DD)\",  \"Time(UTC)\", \"Latitude(deg)\", \"Longitude(deg)\", \"Depth(km)\", \"Magnitude(ergs)\", \n",
        "                    \"Magnitude_type\", \"No_of_Stations\", \"Gap\", \"Close\", \"RMS\", \"SRC\", \"EventID\"]\n",
        "\n",
        "df.columns = new_column_names\n",
        "ts = pd.to_datetime(df[\"Date(YYYY/MM/DD)\"] + \" \" + df[\"Time(UTC)\"])\n",
        "df = df.drop([\"Date(YYYY/MM/DD)\", \"Time(UTC)\"], axis=1)\n",
        "df.index = ts\n",
        "display(df)"
      ]
    },
    {
      "cell_type": "code",
      "execution_count": 5,
      "metadata": {
        "colab": {
          "base_uri": "https://localhost:8080/"
        },
        "id": "auO8-XmcZJww",
        "outputId": "9f3314ba-33ef-4b76-aa6d-dac0bb19845f"
      },
      "outputs": [
        {
          "name": "stdout",
          "output_type": "stream",
          "text": [
            "<class 'pandas.core.frame.DataFrame'>\n",
            "DatetimeIndex: 18030 entries, 1966-07-01 09:41:21.820000 to 2007-12-28 23:20:28.120000\n",
            "Data columns (total 11 columns):\n",
            " #   Column           Non-Null Count  Dtype  \n",
            "---  ------           --------------  -----  \n",
            " 0   Latitude(deg)    18030 non-null  float64\n",
            " 1   Longitude(deg)   18030 non-null  float64\n",
            " 2   Depth(km)        18030 non-null  float64\n",
            " 3   Magnitude(ergs)  18030 non-null  float64\n",
            " 4   Magnitude_type   18030 non-null  object \n",
            " 5   No_of_Stations   18030 non-null  int64  \n",
            " 6   Gap              18030 non-null  int64  \n",
            " 7   Close            18030 non-null  int64  \n",
            " 8   RMS              18030 non-null  float64\n",
            " 9   SRC              18030 non-null  object \n",
            " 10  EventID          18030 non-null  int64  \n",
            "dtypes: float64(5), int64(4), object(2)\n",
            "memory usage: 1.7+ MB\n"
          ]
        }
      ],
      "source": [
        "df.info()"
      ]
    },
    {
      "cell_type": "markdown",
      "metadata": {
        "id": "KxrCWKaROezl"
      },
      "source": [
        "##Export Preprocessed dataset\n",
        "Export the data into xlsx file"
      ]
    },
    {
      "cell_type": "code",
      "execution_count": 6,
      "metadata": {
        "colab": {
          "base_uri": "https://localhost:8080/"
        },
        "id": "F3aaOJaN5PKJ",
        "outputId": "4bf665cf-30b6-403a-f0d7-f6ca22feb068"
      },
      "outputs": [
        {
          "name": "stdout",
          "output_type": "stream",
          "text": [
            "DataFrame is written to Excel File successfully.\n"
          ]
        }
      ],
      "source": [
        "file_name = 'Earthquake_data_processed.xlsx'\n",
        "  \n",
        "# saving the excel\n",
        "df.to_excel(file_name)\n",
        "print('DataFrame is written to Excel File successfully.')"
      ]
    },
    {
      "cell_type": "code",
      "execution_count": 7,
      "metadata": {
        "id": "M_aozrbCnAIr"
      },
      "outputs": [],
      "source": [
        "import warnings\n",
        "warnings.filterwarnings('ignore')"
      ]
    },
    {
      "cell_type": "markdown",
      "metadata": {
        "id": "9u0kENybOpIl"
      },
      "source": [
        "##Partition the data into Training and Testing data"
      ]
    },
    {
      "cell_type": "code",
      "execution_count": 8,
      "metadata": {
        "id": "tIBEitgJw4_w"
      },
      "outputs": [],
      "source": [
        "from sklearn.model_selection import train_test_split\n",
        "\n",
        "# Select relevant columns\n",
        "X = df[['Latitude(deg)', 'Longitude(deg)', 'Depth(km)', 'No_of_Stations']]\n",
        "y = df['Magnitude(ergs)']\n",
        "\n",
        "# Split data into training and testing sets\n",
        "X_train, X_test, y_train, y_test = train_test_split(X, y, test_size=0.2, random_state=0)"
      ]
    },
    {
      "cell_type": "markdown",
      "metadata": {
        "id": "igl8hYNzOz1v"
      },
      "source": [
        "##Linear regression"
      ]
    },
    {
      "cell_type": "markdown",
      "metadata": {
        "id": "JM6Xo26cO5H2"
      },
      "source": [
        "<h3>Loading the model and fitting it with training data</h3>"
      ]
    },
    {
      "cell_type": "code",
      "execution_count": 9,
      "metadata": {
        "colab": {
          "base_uri": "https://localhost:8080/",
          "height": 74
        },
        "id": "lRLvOXsj0NkJ",
        "outputId": "2622c70c-0f21-46fe-dfa0-7199b91bd86b"
      },
      "outputs": [
        {
          "data": {
            "text/html": [
              "<style>#sk-container-id-1 {color: black;background-color: white;}#sk-container-id-1 pre{padding: 0;}#sk-container-id-1 div.sk-toggleable {background-color: white;}#sk-container-id-1 label.sk-toggleable__label {cursor: pointer;display: block;width: 100%;margin-bottom: 0;padding: 0.3em;box-sizing: border-box;text-align: center;}#sk-container-id-1 label.sk-toggleable__label-arrow:before {content: \"▸\";float: left;margin-right: 0.25em;color: #696969;}#sk-container-id-1 label.sk-toggleable__label-arrow:hover:before {color: black;}#sk-container-id-1 div.sk-estimator:hover label.sk-toggleable__label-arrow:before {color: black;}#sk-container-id-1 div.sk-toggleable__content {max-height: 0;max-width: 0;overflow: hidden;text-align: left;background-color: #f0f8ff;}#sk-container-id-1 div.sk-toggleable__content pre {margin: 0.2em;color: black;border-radius: 0.25em;background-color: #f0f8ff;}#sk-container-id-1 input.sk-toggleable__control:checked~div.sk-toggleable__content {max-height: 200px;max-width: 100%;overflow: auto;}#sk-container-id-1 input.sk-toggleable__control:checked~label.sk-toggleable__label-arrow:before {content: \"▾\";}#sk-container-id-1 div.sk-estimator input.sk-toggleable__control:checked~label.sk-toggleable__label {background-color: #d4ebff;}#sk-container-id-1 div.sk-label input.sk-toggleable__control:checked~label.sk-toggleable__label {background-color: #d4ebff;}#sk-container-id-1 input.sk-hidden--visually {border: 0;clip: rect(1px 1px 1px 1px);clip: rect(1px, 1px, 1px, 1px);height: 1px;margin: -1px;overflow: hidden;padding: 0;position: absolute;width: 1px;}#sk-container-id-1 div.sk-estimator {font-family: monospace;background-color: #f0f8ff;border: 1px dotted black;border-radius: 0.25em;box-sizing: border-box;margin-bottom: 0.5em;}#sk-container-id-1 div.sk-estimator:hover {background-color: #d4ebff;}#sk-container-id-1 div.sk-parallel-item::after {content: \"\";width: 100%;border-bottom: 1px solid gray;flex-grow: 1;}#sk-container-id-1 div.sk-label:hover label.sk-toggleable__label {background-color: #d4ebff;}#sk-container-id-1 div.sk-serial::before {content: \"\";position: absolute;border-left: 1px solid gray;box-sizing: border-box;top: 0;bottom: 0;left: 50%;z-index: 0;}#sk-container-id-1 div.sk-serial {display: flex;flex-direction: column;align-items: center;background-color: white;padding-right: 0.2em;padding-left: 0.2em;position: relative;}#sk-container-id-1 div.sk-item {position: relative;z-index: 1;}#sk-container-id-1 div.sk-parallel {display: flex;align-items: stretch;justify-content: center;background-color: white;position: relative;}#sk-container-id-1 div.sk-item::before, #sk-container-id-1 div.sk-parallel-item::before {content: \"\";position: absolute;border-left: 1px solid gray;box-sizing: border-box;top: 0;bottom: 0;left: 50%;z-index: -1;}#sk-container-id-1 div.sk-parallel-item {display: flex;flex-direction: column;z-index: 1;position: relative;background-color: white;}#sk-container-id-1 div.sk-parallel-item:first-child::after {align-self: flex-end;width: 50%;}#sk-container-id-1 div.sk-parallel-item:last-child::after {align-self: flex-start;width: 50%;}#sk-container-id-1 div.sk-parallel-item:only-child::after {width: 0;}#sk-container-id-1 div.sk-dashed-wrapped {border: 1px dashed gray;margin: 0 0.4em 0.5em 0.4em;box-sizing: border-box;padding-bottom: 0.4em;background-color: white;}#sk-container-id-1 div.sk-label label {font-family: monospace;font-weight: bold;display: inline-block;line-height: 1.2em;}#sk-container-id-1 div.sk-label-container {text-align: center;}#sk-container-id-1 div.sk-container {/* jupyter's `normalize.less` sets `[hidden] { display: none; }` but bootstrap.min.css set `[hidden] { display: none !important; }` so we also need the `!important` here to be able to override the default hidden behavior on the sphinx rendered scikit-learn.org. See: https://github.com/scikit-learn/scikit-learn/issues/21755 */display: inline-block !important;position: relative;}#sk-container-id-1 div.sk-text-repr-fallback {display: none;}</style><div id=\"sk-container-id-1\" class=\"sk-top-container\"><div class=\"sk-text-repr-fallback\"><pre>LinearRegression()</pre><b>In a Jupyter environment, please rerun this cell to show the HTML representation or trust the notebook. <br />On GitHub, the HTML representation is unable to render, please try loading this page with nbviewer.org.</b></div><div class=\"sk-container\" hidden><div class=\"sk-item\"><div class=\"sk-estimator sk-toggleable\"><input class=\"sk-toggleable__control sk-hidden--visually\" id=\"sk-estimator-id-1\" type=\"checkbox\" checked><label for=\"sk-estimator-id-1\" class=\"sk-toggleable__label sk-toggleable__label-arrow\">LinearRegression</label><div class=\"sk-toggleable__content\"><pre>LinearRegression()</pre></div></div></div></div></div>"
            ],
            "text/plain": [
              "LinearRegression()"
            ]
          },
          "execution_count": 9,
          "metadata": {},
          "output_type": "execute_result"
        }
      ],
      "source": [
        "from sklearn.linear_model import LinearRegression\n",
        "\n",
        "# Train the linear regression model\n",
        "regressor = LinearRegression()\n",
        "regressor.fit(X_train, y_train)"
      ]
    },
    {
      "cell_type": "markdown",
      "metadata": {
        "id": "fSAvemGCPINj"
      },
      "source": [
        "<h3>Predict the testing data</h3>\n",
        "Find the predicted values and evaluate it using metrics of linear regression"
      ]
    },
    {
      "cell_type": "code",
      "execution_count": 10,
      "metadata": {
        "colab": {
          "base_uri": "https://localhost:8080/"
        },
        "id": "w7Q9XWSe0Qzw",
        "outputId": "187f99e5-19fd-4c0b-ae65-a992250e6ed9"
      },
      "outputs": [
        {
          "name": "stdout",
          "output_type": "stream",
          "text": [
            "R^2: 0.02, MSE: 0.19\n"
          ]
        }
      ],
      "source": [
        "from sklearn.metrics import r2_score, mean_squared_error\n",
        "\n",
        "scores= {\"Model name\": [\"Linear regression\", \"SVM\", \"Random Forest\"], \"mse\": [], \"R^2\": []}\n",
        "\n",
        "# Predict on the testing set\n",
        "y_pred = regressor.predict(X_test)\n",
        "\n",
        "# Compute R^2 and MSE\n",
        "r2 = r2_score(y_test, y_pred)\n",
        "mse = mean_squared_error(y_test, y_pred)\n",
        "\n",
        "scores['mse'].append(mse)\n",
        "scores['R^2'].append(r2)\n",
        "\n",
        "print(\"R^2: {:.2f}, MSE: {:.2f}\".format(r2, mse))"
      ]
    },
    {
      "cell_type": "markdown",
      "metadata": {
        "id": "CpmmAaP3Pi9v"
      },
      "source": [
        "<h3>Predict for new data</h3>\n",
        "\n"
      ]
    },
    {
      "cell_type": "code",
      "execution_count": 11,
      "metadata": {
        "colab": {
          "base_uri": "https://localhost:8080/"
        },
        "id": "9lvjfbKI0Sio",
        "outputId": "77205e61-cf8e-43b8-f402-c114a1a0fe67"
      },
      "outputs": [
        {
          "name": "stdout",
          "output_type": "stream",
          "text": [
            "New predictions: [3.447483   3.33027751]\n"
          ]
        }
      ],
      "source": [
        "# Predict on new data\n",
        "new_data = [[33.89, -118.40, 16.17, 11], [37.77, -122.42, 8.05, 14]]\n",
        "new_pred = regressor.predict(new_data)\n",
        "print(\"New predictions:\", new_pred)"
      ]
    },
    {
      "cell_type": "markdown",
      "metadata": {},
      "source": [
        "Using Support Vector Algorithm"
      ]
    },
    {
      "cell_type": "code",
      "execution_count": 76,
      "metadata": {
        "colab": {
          "base_uri": "https://localhost:8080/"
        },
        "id": "I8hcAPPsIgUq",
        "outputId": "bffb94ba-f217-496a-8a34-510d857828c5"
      },
      "outputs": [
        {
          "name": "stdout",
          "output_type": "stream",
          "text": [
            "Test score: -1.9212973747969442\n"
          ]
        }
      ],
      "source": [
        "from sklearn.svm import SVR\n",
        "\n",
        "# Select a subset of the training data\n",
        "subset_size = 500\n",
        "X_train_subset = X_train[:subset_size]\n",
        "y_train_subset = y_train[:subset_size]\n",
        "\n",
        "# Create an SVM model\n",
        "svm = SVR(kernel='rbf', C=1e3, gamma=0.1)\n",
        "\n",
        "# Train the SVM model on the subset of data\n",
        "svm.fit(X_train_subset, y_train_subset)\n",
        "\n",
        "# Evaluate the model on the test set\n",
        "score = svm.score(X_test, y_test)\n",
        "print(\"Test score:\", score)"
      ]
    },
    {
      "cell_type": "markdown",
      "metadata": {
        "id": "Lp9VJzBcSFpo"
      },
      "source": [
        "<h3>Predict the testing data</h3>\n",
        "Find the predicted values and evaluate it using metrics like MSE, r2"
      ]
    },
    {
      "cell_type": "code",
      "execution_count": 77,
      "metadata": {
        "colab": {
          "base_uri": "https://localhost:8080/"
        },
        "id": "W4pRS7pRSYN1",
        "outputId": "d8f12b74-f687-4af4-c3a0-89571eca3ee6"
      },
      "outputs": [
        {
          "name": "stdout",
          "output_type": "stream",
          "text": [
            "SVM R^2: -1.92, MSE: 0.53\n"
          ]
        }
      ],
      "source": [
        "# Predict on the testing set\n",
        "y_pred_svm = svm.predict(X_test)\n",
        "\n",
        "# Compute R^2 and MSE\n",
        "r2_svm = r2_score(y_test, y_pred_svm)\n",
        "mse_svm = mean_squared_error(y_test, y_pred_svm)\n",
        "\n",
        "scores['mse'].append(mse_svm)\n",
        "scores['R^2'].append(r2_svm)\n",
        "\n",
        "print(\"SVM R^2: {:.2f}, MSE: {:.2f}\".format(r2_svm, mse_svm))"
      ]
    },
    {
      "cell_type": "markdown",
      "metadata": {
        "id": "AlGlzxWISFpp"
      },
      "source": [
        "<h3>Predict for new data</h3>\n",
        "\n"
      ]
    },
    {
      "cell_type": "code",
      "execution_count": 37,
      "metadata": {
        "colab": {
          "base_uri": "https://localhost:8080/"
        },
        "id": "H75rLzHiSZMM",
        "outputId": "fb5d7640-e173-4391-af52-31c6448ccbec"
      },
      "outputs": [
        {
          "name": "stdout",
          "output_type": "stream",
          "text": [
            "New SVM predictions: [3.57401976 3.03496212]\n"
          ]
        }
      ],
      "source": [
        "# Predict on new data\n",
        "new_pred_svm = svm.predict(new_data)\n",
        "print(\"New SVM predictions:\", new_pred_svm)"
      ]
    },
    {
      "cell_type": "markdown",
      "metadata": {
        "id": "qI2Zm48sSFpq"
      },
      "source": [
        "<h3>Plot model</h3>"
      ]
    },
    {
      "cell_type": "code",
      "execution_count": 38,
      "metadata": {
        "colab": {
          "base_uri": "https://localhost:8080/",
          "height": 449
        },
        "id": "CUkGRpvpSakm",
        "outputId": "74d661a1-7d86-4b0f-cdf0-15e415a530be"
      },
      "outputs": [
        {
          "data": {
            "image/png": "[encoded data removed]",
            "text/plain": [
              "<Figure size 640x480 with 1 Axes>"
            ]
          },
          "metadata": {},
          "output_type": "display_data"
        }
      ],
      "source": [
        "import numpy as np \n",
        "import pandas as pd \n",
        "import matplotlib.pyplot as plt \n",
        "from matplotlib import style\n",
        "from sklearn.svm import SVC \n",
        "  \n",
        "style.use('fivethirtyeight')\n",
        "  \n",
        "# create mesh grids\n",
        "def make_meshgrid(x, y, h =.02):\n",
        "    x_min, x_max = x.min() - 1, x.max() + 1\n",
        "    y_min, y_max = y.min() - 1, y.max() + 1\n",
        "    xx, yy = np.meshgrid(np.arange(x_min, x_max, h), np.arange(y_min, y_max, h))\n",
        "    return xx, yy\n",
        "  \n",
        "# plot the contours\n",
        "def plot_contours(ax, clf, xx, yy, **params):\n",
        "    Z = clf.predict(np.c_[xx.ravel(), yy.ravel()])\n",
        "    Z = Z.reshape(xx.shape)\n",
        "    out = ax.contourf(xx, yy, Z, **params)\n",
        "    return out\n",
        "  \n",
        "# color = ['y', 'b', 'g', 'k']\n",
        "\n",
        "subset_size = 500\n",
        "\n",
        "# modify the column names based on the dataset\n",
        "features = df[['Magnitude(ergs)','Latitude(deg)']][:subset_size].values\n",
        "classes = df['Magnitude_type'][:subset_size].values\n",
        "  \n",
        "# create 3 svm with rbf kernels\n",
        "svm1 = SVC(kernel ='rbf')\n",
        "svm2 = SVC(kernel ='rbf')\n",
        "svm3 = SVC(kernel ='rbf')\n",
        "svm4 = SVC(kernel ='rbf') \n",
        "\n",
        "# fit each svm's\n",
        "svm1.fit(features, (classes=='ML').astype(int))\n",
        "svm2.fit(features, (classes=='Mx').astype(int))\n",
        "svm3.fit(features, (classes=='Md').astype(int))\n",
        "  \n",
        "fig, ax = plt.subplots()\n",
        "X0, X1 = features[:, 0], features[:, 1]\n",
        "xx, yy = make_meshgrid(X0, X1)\n",
        "  \n",
        "# plot the contours\n",
        "'''\n",
        "plot_contours(ax, svm1, xx, yy, cmap = plt.get_cmap('hot'), alpha = 0.8)\n",
        "plot_contours(ax, svm2, xx, yy, cmap = plt.get_cmap('hot'), alpha = 0.3)\n",
        "plot_contours(ax, svm3, xx, yy, cmap = plt.get_cmap('hot'), alpha = 0.5)\n",
        "'''\n",
        "color = ['y', 'b', 'g', 'k', 'm']\n",
        "\n",
        "\n",
        "\n",
        "for i in range(subset_size):\n",
        "    if classes[i] == 'ML':\n",
        "        plt.scatter(features[i][0], features[i][1], s = 20, c = color[0])\n",
        "    elif classes[i] == 'Mx':\n",
        "        plt.scatter(features[i][0], features[i][1], s = 20, c = color[1])\n",
        "    elif classes[i] == 'Md':\n",
        "        plt.scatter(features[i][0], features[i][1], s = 20, c = color[2])\n",
        "    else:\n",
        "        plt.scatter(features[i][0], features[i][1], s = 20, c = color[4])\n",
        "plt.show()"
      ]
    },
    {
      "cell_type": "markdown",
      "metadata": {
        "id": "qRVcPQ7LSFw1"
      },
      "source": [
        "Naive Bayes"
      ]
    },
    {
      "cell_type": "markdown",
      "metadata": {
        "id": "7aR2EgvAZpe3"
      },
      "source": [
        "\n",
        "\n",
        ">**Note: Naive bayes is used for strings and numbers(categorically) it can be used for classification so it can be either 1 or 0 nothing in between like 0.5 (regression). Even if we force naive bayes and tweak it a little bit for regression the result is disappointing.\n",
        "\n",
        "\n"
      ]
    },
    {
      "cell_type": "markdown",
      "metadata": {
        "id": "ef7Oi2pMYOB3"
      },
      "source": [
        "**`This code is just for predicting categorical data magnitude type with Naive Bayes`**"
      ]
    },
    {
      "cell_type": "code",
      "execution_count": 40,
      "metadata": {
        "colab": {
          "base_uri": "https://localhost:8080/",
          "height": 74
        },
        "id": "-XEp7eIid6as",
        "outputId": "dc06c5c8-7745-4536-cf76-91d2fcaa6d60"
      },
      "outputs": [
        {
          "data": {
            "text/html": [
              "<style>#sk-container-id-4 {color: black;background-color: white;}#sk-container-id-4 pre{padding: 0;}#sk-container-id-4 div.sk-toggleable {background-color: white;}#sk-container-id-4 label.sk-toggleable__label {cursor: pointer;display: block;width: 100%;margin-bottom: 0;padding: 0.3em;box-sizing: border-box;text-align: center;}#sk-container-id-4 label.sk-toggleable__label-arrow:before {content: \"▸\";float: left;margin-right: 0.25em;color: #696969;}#sk-container-id-4 label.sk-toggleable__label-arrow:hover:before {color: black;}#sk-container-id-4 div.sk-estimator:hover label.sk-toggleable__label-arrow:before {color: black;}#sk-container-id-4 div.sk-toggleable__content {max-height: 0;max-width: 0;overflow: hidden;text-align: left;background-color: #f0f8ff;}#sk-container-id-4 div.sk-toggleable__content pre {margin: 0.2em;color: black;border-radius: 0.25em;background-color: #f0f8ff;}#sk-container-id-4 input.sk-toggleable__control:checked~div.sk-toggleable__content {max-height: 200px;max-width: 100%;overflow: auto;}#sk-container-id-4 input.sk-toggleable__control:checked~label.sk-toggleable__label-arrow:before {content: \"▾\";}#sk-container-id-4 div.sk-estimator input.sk-toggleable__control:checked~label.sk-toggleable__label {background-color: #d4ebff;}#sk-container-id-4 div.sk-label input.sk-toggleable__control:checked~label.sk-toggleable__label {background-color: #d4ebff;}#sk-container-id-4 input.sk-hidden--visually {border: 0;clip: rect(1px 1px 1px 1px);clip: rect(1px, 1px, 1px, 1px);height: 1px;margin: -1px;overflow: hidden;padding: 0;position: absolute;width: 1px;}#sk-container-id-4 div.sk-estimator {font-family: monospace;background-color: #f0f8ff;border: 1px dotted black;border-radius: 0.25em;box-sizing: border-box;margin-bottom: 0.5em;}#sk-container-id-4 div.sk-estimator:hover {background-color: #d4ebff;}#sk-container-id-4 div.sk-parallel-item::after {content: \"\";width: 100%;border-bottom: 1px solid gray;flex-grow: 1;}#sk-container-id-4 div.sk-label:hover label.sk-toggleable__label {background-color: #d4ebff;}#sk-container-id-4 div.sk-serial::before {content: \"\";position: absolute;border-left: 1px solid gray;box-sizing: border-box;top: 0;bottom: 0;left: 50%;z-index: 0;}#sk-container-id-4 div.sk-serial {display: flex;flex-direction: column;align-items: center;background-color: white;padding-right: 0.2em;padding-left: 0.2em;position: relative;}#sk-container-id-4 div.sk-item {position: relative;z-index: 1;}#sk-container-id-4 div.sk-parallel {display: flex;align-items: stretch;justify-content: center;background-color: white;position: relative;}#sk-container-id-4 div.sk-item::before, #sk-container-id-4 div.sk-parallel-item::before {content: \"\";position: absolute;border-left: 1px solid gray;box-sizing: border-box;top: 0;bottom: 0;left: 50%;z-index: -1;}#sk-container-id-4 div.sk-parallel-item {display: flex;flex-direction: column;z-index: 1;position: relative;background-color: white;}#sk-container-id-4 div.sk-parallel-item:first-child::after {align-self: flex-end;width: 50%;}#sk-container-id-4 div.sk-parallel-item:last-child::after {align-self: flex-start;width: 50%;}#sk-container-id-4 div.sk-parallel-item:only-child::after {width: 0;}#sk-container-id-4 div.sk-dashed-wrapped {border: 1px dashed gray;margin: 0 0.4em 0.5em 0.4em;box-sizing: border-box;padding-bottom: 0.4em;background-color: white;}#sk-container-id-4 div.sk-label label {font-family: monospace;font-weight: bold;display: inline-block;line-height: 1.2em;}#sk-container-id-4 div.sk-label-container {text-align: center;}#sk-container-id-4 div.sk-container {/* jupyter's `normalize.less` sets `[hidden] { display: none; }` but bootstrap.min.css set `[hidden] { display: none !important; }` so we also need the `!important` here to be able to override the default hidden behavior on the sphinx rendered scikit-learn.org. See: https://github.com/scikit-learn/scikit-learn/issues/21755 */display: inline-block !important;position: relative;}#sk-container-id-4 div.sk-text-repr-fallback {display: none;}</style><div id=\"sk-container-id-4\" class=\"sk-top-container\"><div class=\"sk-text-repr-fallback\"><pre>GaussianNB()</pre><b>In a Jupyter environment, please rerun this cell to show the HTML representation or trust the notebook. <br />On GitHub, the HTML representation is unable to render, please try loading this page with nbviewer.org.</b></div><div class=\"sk-container\" hidden><div class=\"sk-item\"><div class=\"sk-estimator sk-toggleable\"><input class=\"sk-toggleable__control sk-hidden--visually\" id=\"sk-estimator-id-4\" type=\"checkbox\" checked><label for=\"sk-estimator-id-4\" class=\"sk-toggleable__label sk-toggleable__label-arrow\">GaussianNB</label><div class=\"sk-toggleable__content\"><pre>GaussianNB()</pre></div></div></div></div></div>"
            ],
            "text/plain": [
              "GaussianNB()"
            ]
          },
          "execution_count": 40,
          "metadata": {},
          "output_type": "execute_result"
        }
      ],
      "source": [
        "import pandas as pd\n",
        "import numpy as np\n",
        "from sklearn.naive_bayes import GaussianNB\n",
        "from sklearn.model_selection import train_test_split\n",
        "from sklearn.metrics import accuracy_score, confusion_matrix, classification_report\n",
        "from sklearn.preprocessing import LabelEncoder, MinMaxScaler\n",
        "import matplotlib.pyplot as plt\n",
        "import seaborn as sns\n",
        "\n",
        "# Read CSV file with space delimiter\n",
        "df = pd.read_csv('/content/Earthquake_Data.csv', delimiter=r'\\s+')\n",
        "\n",
        "new_column_names = [\"Date(YYYY/MM/DD)\",  \"Time(UTC)\", \"Latitude(deg)\", \"Longitude(deg)\", \"Depth(km)\", \"Magnitude\", \n",
        "                    \"Magnitude_Category\", \"No_of_Stations\", \"Gap\", \"Close\", \"RMS\", \"SRC\", \"EventID\"]\n",
        "\n",
        "df.columns = new_column_names\n",
        "\n",
        "# Convert magnitude column to categorical data\n",
        "df['Magnitude_Category'] = pd.cut(df['Magnitude'], bins=[0, 5, 6, 7, np.inf], labels=['Minor', 'Moderate', 'Strong', 'Major'])\n",
        "\n",
        "# Encode Magnitude Category\n",
        "le = LabelEncoder()\n",
        "df['Magnitude_Category_Encoded'] = le.fit_transform(df['Magnitude_Category'])\n",
        "\n",
        "# Normalize latitude and longitude values\n",
        "scaler = MinMaxScaler()\n",
        "df[['Latitude(deg)', 'Longitude(deg)']] = scaler.fit_transform(df[['Latitude(deg)', 'Longitude(deg)']])\n",
        "\n",
        "# Select features\n",
        "X = df[['Latitude(deg)', 'Longitude(deg)', 'No_of_Stations']]\n",
        "y = df['Magnitude_Category_Encoded']\n",
        "\n",
        "# Split the data into training and testing sets\n",
        "X_train, X_test, y_train, y_test = train_test_split(X, y, test_size=0.3, random_state=42)\n",
        "\n",
        "# Train the Gaussian Naive Bayes model on the training data\n",
        "gnb = GaussianNB()\n",
        "gnb.fit(X_train, y_train)"
      ]
    },
    {
      "cell_type": "code",
      "execution_count": 44,
      "metadata": {
        "id": "1GEcwwNod-T6"
      },
      "outputs": [],
      "source": [
        "# Use the trained model to make predictions on the testing data\n",
        "y_pred = gnb.predict(X_test)\n"
      ]
    },
    {
      "cell_type": "code",
      "execution_count": 46,
      "metadata": {
        "colab": {
          "base_uri": "https://localhost:8080/"
        },
        "id": "p_TDi29xepW6",
        "outputId": "16421654-d942-4ea6-b8ec-88d87ad3519d"
      },
      "outputs": [
        {
          "name": "stdout",
          "output_type": "stream",
          "text": [
            "Accuracy: 0.9853947125161767\n",
            "Confusion Matrix:\n",
            " [[5327   35    1]\n",
            " [  38    3    1]\n",
            " [   4    0    0]]\n",
            "Classification Report:\n",
            "               precision    recall  f1-score   support\n",
            "\n",
            "       Minor       0.00      0.00      0.00         0\n",
            "    Moderate       0.99      0.99      0.99      5363\n",
            "      Strong       0.08      0.07      0.07        42\n",
            "       Major       0.00      0.00      0.00         4\n",
            "\n",
            "   micro avg       0.99      0.99      0.99      5409\n",
            "   macro avg       0.27      0.27      0.27      5409\n",
            "weighted avg       0.98      0.99      0.98      5409\n",
            "\n"
          ]
        }
      ],
      "source": [
        "# Calculate the accuracy of the model\n",
        "accuracy = accuracy_score(y_test, y_pred)\n",
        "print('Accuracy:', accuracy)\n",
        "\n",
        "# Calculate and print the confusion matrix and classification report\n",
        "cm = confusion_matrix(y_test, y_pred)\n",
        "print('Confusion Matrix:\\n', cm)\n",
        "\n",
        "cr = classification_report(y_test, y_pred, labels=[0, 1, 2, 3], target_names=['Minor', 'Moderate', 'Strong', 'Major'])\n",
        "print('Classification Report:\\n', cr)"
      ]
    },
    {
      "cell_type": "markdown",
      "metadata": {},
      "source": [
        "Testing Random Forest"
      ]
    },
    {
      "cell_type": "code",
      "execution_count": 80,
      "metadata": {
        "colab": {
          "base_uri": "https://localhost:8080/",
          "height": 74
        },
        "id": "M_MktqiZSlh4",
        "outputId": "a0547aa5-42e0-4ac5-f671-07c1150e1b1f"
      },
      "outputs": [
        {
          "data": {
            "text/html": [
              "<style>#sk-container-id-10 {color: black;background-color: white;}#sk-container-id-10 pre{padding: 0;}#sk-container-id-10 div.sk-toggleable {background-color: white;}#sk-container-id-10 label.sk-toggleable__label {cursor: pointer;display: block;width: 100%;margin-bottom: 0;padding: 0.3em;box-sizing: border-box;text-align: center;}#sk-container-id-10 label.sk-toggleable__label-arrow:before {content: \"▸\";float: left;margin-right: 0.25em;color: #696969;}#sk-container-id-10 label.sk-toggleable__label-arrow:hover:before {color: black;}#sk-container-id-10 div.sk-estimator:hover label.sk-toggleable__label-arrow:before {color: black;}#sk-container-id-10 div.sk-toggleable__content {max-height: 0;max-width: 0;overflow: hidden;text-align: left;background-color: #f0f8ff;}#sk-container-id-10 div.sk-toggleable__content pre {margin: 0.2em;color: black;border-radius: 0.25em;background-color: #f0f8ff;}#sk-container-id-10 input.sk-toggleable__control:checked~div.sk-toggleable__content {max-height: 200px;max-width: 100%;overflow: auto;}#sk-container-id-10 input.sk-toggleable__control:checked~label.sk-toggleable__label-arrow:before {content: \"▾\";}#sk-container-id-10 div.sk-estimator input.sk-toggleable__control:checked~label.sk-toggleable__label {background-color: #d4ebff;}#sk-container-id-10 div.sk-label input.sk-toggleable__control:checked~label.sk-toggleable__label {background-color: #d4ebff;}#sk-container-id-10 input.sk-hidden--visually {border: 0;clip: rect(1px 1px 1px 1px);clip: rect(1px, 1px, 1px, 1px);height: 1px;margin: -1px;overflow: hidden;padding: 0;position: absolute;width: 1px;}#sk-container-id-10 div.sk-estimator {font-family: monospace;background-color: #f0f8ff;border: 1px dotted black;border-radius: 0.25em;box-sizing: border-box;margin-bottom: 0.5em;}#sk-container-id-10 div.sk-estimator:hover {background-color: #d4ebff;}#sk-container-id-10 div.sk-parallel-item::after {content: \"\";width: 100%;border-bottom: 1px solid gray;flex-grow: 1;}#sk-container-id-10 div.sk-label:hover label.sk-toggleable__label {background-color: #d4ebff;}#sk-container-id-10 div.sk-serial::before {content: \"\";position: absolute;border-left: 1px solid gray;box-sizing: border-box;top: 0;bottom: 0;left: 50%;z-index: 0;}#sk-container-id-10 div.sk-serial {display: flex;flex-direction: column;align-items: center;background-color: white;padding-right: 0.2em;padding-left: 0.2em;position: relative;}#sk-container-id-10 div.sk-item {position: relative;z-index: 1;}#sk-container-id-10 div.sk-parallel {display: flex;align-items: stretch;justify-content: center;background-color: white;position: relative;}#sk-container-id-10 div.sk-item::before, #sk-container-id-10 div.sk-parallel-item::before {content: \"\";position: absolute;border-left: 1px solid gray;box-sizing: border-box;top: 0;bottom: 0;left: 50%;z-index: -1;}#sk-container-id-10 div.sk-parallel-item {display: flex;flex-direction: column;z-index: 1;position: relative;background-color: white;}#sk-container-id-10 div.sk-parallel-item:first-child::after {align-self: flex-end;width: 50%;}#sk-container-id-10 div.sk-parallel-item:last-child::after {align-self: flex-start;width: 50%;}#sk-container-id-10 div.sk-parallel-item:only-child::after {width: 0;}#sk-container-id-10 div.sk-dashed-wrapped {border: 1px dashed gray;margin: 0 0.4em 0.5em 0.4em;box-sizing: border-box;padding-bottom: 0.4em;background-color: white;}#sk-container-id-10 div.sk-label label {font-family: monospace;font-weight: bold;display: inline-block;line-height: 1.2em;}#sk-container-id-10 div.sk-label-container {text-align: center;}#sk-container-id-10 div.sk-container {/* jupyter's `normalize.less` sets `[hidden] { display: none; }` but bootstrap.min.css set `[hidden] { display: none !important; }` so we also need the `!important` here to be able to override the default hidden behavior on the sphinx rendered scikit-learn.org. See: https://github.com/scikit-learn/scikit-learn/issues/21755 */display: inline-block !important;position: relative;}#sk-container-id-10 div.sk-text-repr-fallback {display: none;}</style><div id=\"sk-container-id-10\" class=\"sk-top-container\"><div class=\"sk-text-repr-fallback\"><pre>RandomForestRegressor(random_state=42)</pre><b>In a Jupyter environment, please rerun this cell to show the HTML representation or trust the notebook. <br />On GitHub, the HTML representation is unable to render, please try loading this page with nbviewer.org.</b></div><div class=\"sk-container\" hidden><div class=\"sk-item\"><div class=\"sk-estimator sk-toggleable\"><input class=\"sk-toggleable__control sk-hidden--visually\" id=\"sk-estimator-id-10\" type=\"checkbox\" checked><label for=\"sk-estimator-id-10\" class=\"sk-toggleable__label sk-toggleable__label-arrow\">RandomForestRegressor</label><div class=\"sk-toggleable__content\"><pre>RandomForestRegressor(random_state=42)</pre></div></div></div></div></div>"
            ],
            "text/plain": [
              "RandomForestRegressor(random_state=42)"
            ]
          },
          "execution_count": 80,
          "metadata": {},
          "output_type": "execute_result"
        }
      ],
      "source": [
        "from sklearn.ensemble import RandomForestRegressor\n",
        "\n",
        "# Initialize a random forest regressor with 100 trees\n",
        "rf = RandomForestRegressor(n_estimators=100, random_state=42)\n",
        "\n",
        "# Fit the regressor to the training data\n",
        "rf.fit(X_train, y_train)"
      ]
    },
    {
      "cell_type": "markdown",
      "metadata": {
        "id": "6DuysDkWSF5k"
      },
      "source": [
        "<h3>Predict the testing data and evaluate it</h3>\n",
        "Find the predicted values and evaluate it using metrics like MSE, r2"
      ]
    },
    {
      "cell_type": "code",
      "execution_count": 89,
      "metadata": {
        "colab": {
          "base_uri": "https://localhost:8080/"
        },
        "id": "wHCtB632SlFP",
        "outputId": "bf7192be-3ce4-4c91-97e9-d7f794f9b4ec"
      },
      "outputs": [
        {
          "name": "stdout",
          "output_type": "stream",
          "text": [
            "Mean Squared Error:  0.15599116006378258\n",
            "R^2 Score:  0.1428805732295345\n"
          ]
        }
      ],
      "source": [
        "# Predict the target variable on the test data\n",
        "y_pred = rf.predict(X_test)\n",
        "\n",
        "# Evaluate the performance of the model using mean squared error and R^2 score\n",
        "mse = mean_squared_error(y_test, y_pred)\n",
        "r2 = r2_score(y_test, y_pred)\n",
        "\n",
        "scores['mse'].append(mse)\n",
        "scores['R^2'].append(r2)\n",
        "\n",
        "print('Mean Squared Error: ', mse)\n",
        "print('R^2 Score: ', r2)"
      ]
    },
    {
      "cell_type": "markdown",
      "metadata": {
        "id": "_IZd9PIaSF5l"
      },
      "source": [
        "<h3>Plot model</h3>"
      ]
    },
    {
      "cell_type": "markdown",
      "metadata": {
        "id": "8NONsjVeP2Us"
      },
      "source": [
        "**Scatter plot**"
      ]
    },
    {
      "cell_type": "code",
      "execution_count": 82,
      "metadata": {
        "colab": {
          "base_uri": "https://localhost:8080/",
          "height": 508
        },
        "id": "-yFfVJ_DSkmb",
        "outputId": "b34552ef-c206-466e-fb27-444ab30b054c"
      },
      "outputs": [
        {
          "data": {
            "image/png": "[encoded data removed]",
            "text/plain": [
              "<Figure size 640x480 with 1 Axes>"
            ]
          },
          "metadata": {},
          "output_type": "display_data"
        }
      ],
      "source": [
        "# Plot the predicted and actual values\n",
        "plt.scatter(y_test, y_pred)\n",
        "plt.xlabel('Actual Magnitude')\n",
        "plt.ylabel('Predicted Magnitude')\n",
        "plt.title('Random Forest Regression Results')\n",
        "plt.show()"
      ]
    }
  ],
  "metadata": {
    "colab": {
      "include_colab_link": true,
      "provenance": []
    },
    "kernelspec": {
      "display_name": "Python 3",
      "name": "python3"
    },
    "language_info": {
      "codemirror_mode": {
        "name": "ipython",
        "version": 3
      },
      "file_extension": ".py",
      "mimetype": "text/x-python",
      "name": "python",
      "nbconvert_exporter": "python",
      "pygments_lexer": "ipython3",
      "version": "3.11.7"
    }
  },
  "nbformat": 4,
  "nbformat_minor": 0
}
